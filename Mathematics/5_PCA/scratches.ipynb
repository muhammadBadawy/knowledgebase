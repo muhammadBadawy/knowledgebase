{
 "cells": [
  {
   "cell_type": "code",
   "execution_count": 6,
   "metadata": {},
   "outputs": [
    {
     "name": "stdout",
     "output_type": "stream",
     "text": [
      "1\n",
      "4.898979485566356\n",
      "1.3652273956337226\n"
     ]
    }
   ],
   "source": [
    "import numpy as np\n",
    "\n",
    "x = np.array([1, 1, 1])\n",
    "A = np.array([[1, 0, 0],\n",
    "              [0, 2, -1],\n",
    "              [0, -1, 3]])\n",
    "y = np.array([2, -1, 0])\n",
    "\n",
    "nominator = x@A@y\n",
    "denominator = np.sqrt((x@A@x)*(y@A@y))\n",
    "angle = np.arccos(nominator/denominator)\n",
    "\n",
    "print(nominator)\n",
    "print(denominator)\n",
    "print(angle)"
   ]
  },
  {
   "cell_type": "code",
   "execution_count": null,
   "metadata": {},
   "outputs": [],
   "source": []
  }
 ],
 "metadata": {
  "kernelspec": {
   "display_name": "Python 3",
   "language": "python",
   "name": "python3"
  },
  "language_info": {
   "codemirror_mode": {
    "name": "ipython",
    "version": 3
   },
   "file_extension": ".py",
   "mimetype": "text/x-python",
   "name": "python",
   "nbconvert_exporter": "python",
   "pygments_lexer": "ipython3",
   "version": "3.8.5"
  }
 },
 "nbformat": 4,
 "nbformat_minor": 4
}
