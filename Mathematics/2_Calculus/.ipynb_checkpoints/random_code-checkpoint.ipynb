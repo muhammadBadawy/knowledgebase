{
 "cells": [
  {
   "cell_type": "code",
   "execution_count": 4,
   "metadata": {},
   "outputs": [
    {
     "name": "stdout",
     "output_type": "stream",
     "text": [
      "[-3 -3] and step size is [-0.0015 -0.003 ]\n",
      "[-2.85365259 -2.71437644] and step size is [-0.00142683 -0.00271438]\n",
      "[-2.71444437 -2.45594649] and step size is [-0.00135722 -0.00245595]\n",
      "[-2.58202707 -2.2221211 ] and step size is [-0.00129101 -0.00222212]\n",
      "[-2.45606941 -2.01055772] and step size is [-0.00122803 -0.00201056]\n",
      "[-2.33625628 -1.81913683] and step size is [-0.00116813 -0.00181914]\n",
      "[-2.22228793 -1.64594072] and step size is [-0.00111114 -0.00164594]\n",
      "[-2.11387923 -1.48923424] and step size is [-0.00105694 -0.00148923]\n",
      "[-2.01075899 -1.34744745] and step size is [-0.00100538 -0.00134745]\n",
      "[-1.9126692  -1.21915987] and step size is [-0.00095633 -0.00121916]\n",
      "[-1.81936447 -1.10308627] and step size is [-0.00090968 -0.00110309]\n",
      "[-1.73061138 -0.9980638 ] and step size is [-0.00086531 -0.00099806]\n",
      "[-1.64618788 -0.90304029] and step size is [-0.00082309 -0.00090304]\n",
      "[-1.56588277 -0.81706376] and step size is [-0.00078294 -0.00081706]\n",
      "[-1.48949514 -0.73927287] and step size is [-0.00074475 -0.00073927]\n",
      "[-1.41683389 -0.66888829] and step size is [-0.00070842 -0.00066889]\n",
      "[-1.34771723 -0.60520487] and step size is [-0.00067386 -0.0006052 ]\n",
      "[-1.28197226 -0.54758462] and step size is [-0.00064099 -0.00054758]\n",
      "[-1.21943448 -0.49545026] and step size is [-0.00060972 -0.00049545]\n",
      "[-1.15994746 -0.44827951] and step size is [-0.00057997 -0.00044828]\n",
      "[-1.10336236 -0.40559978] and step size is [-0.00055168 -0.0004056 ]\n",
      "[-1.04953762 -0.36698349] and step size is [-0.00052477 -0.00036698]\n",
      "[-0.99833858 -0.33204378] and step size is [-0.00049917 -0.00033204]\n",
      "[-0.94963716 -0.30043061] and step size is [-0.00047482 -0.00030043]\n",
      "[-0.90331151 -0.27182725] and step size is [-0.00045166 -0.00027183]\n",
      "[-0.85924574 -0.24594716] and step size is [-0.00042962 -0.00024595]\n",
      "[-0.81732962 -0.22253106] and step size is [-0.00040866 -0.00022253]\n",
      "[-0.77745826 -0.20134436] and step size is [-0.00038873 -0.00020134]\n",
      "[-0.73953192 -0.18217479] and step size is [-0.00036977 -0.00018217]\n",
      "[-0.70345573 -0.16483032] and step size is [-0.00035173 -0.00016483]\n",
      "[-0.66913942 -0.14913718] and step size is [-0.00033457 -0.00014914]\n",
      "[-0.63649715 -0.13493815] and step size is [-0.00031825 -0.00013494]\n",
      "[-0.60544725 -0.12209098] and step size is [-0.00030272 -0.00012209]\n",
      "[-0.57591203 -0.11046696] and step size is [-0.00028796 -0.00011047]\n",
      "[-0.54781762 -0.09994964] and step size is [-2.73908811e-04 -9.99496374e-05]\n",
      "[-0.52109373 -0.09043365] and step size is [-2.60546863e-04 -9.04336471e-05]\n",
      "[-0.49567349 -0.08182365] and step size is [-2.47836743e-04 -8.18236537e-05]\n",
      "[-0.47149331 -0.0740334 ] and step size is [-2.35746655e-04 -7.40333993e-05]\n",
      "[-0.4484927  -0.06698484] and step size is [-2.24246351e-04 -6.69848383e-05]\n",
      "[-0.42661412 -0.06060736] and step size is [-2.13307060e-04 -6.06073557e-05]\n",
      "[-0.40580283 -0.05483706] and step size is [-2.02901415e-04 -5.48370595e-05]\n",
      "[-0.38600677 -0.04961614] and step size is [-1.93003383e-04 -4.96161408e-05]\n",
      "[-0.3671764  -0.04489229] and step size is [-1.83588201e-04 -4.48922946e-05]\n",
      "[-0.34926463 -0.0406182 ] and step size is [-1.74632315e-04 -4.06181956e-05]\n",
      "[-0.33222664 -0.03675102] and step size is [-1.66113320e-04 -3.67510244e-05]\n",
      "[-0.3160198  -0.03325204] and step size is [-1.58009902e-04 -3.32520383e-05]\n",
      "[-0.30060358 -0.03008618] and step size is [-1.50301788e-04 -3.00861831e-05]\n",
      "[-0.28593939 -0.02722174] and step size is [-1.42969696e-04 -2.72217422e-05]\n",
      "[-0.27199056 -0.02463002] and step size is [-1.35995281e-04 -2.46300186e-05]\n",
      "[-0.25872219 -0.02228505] and step size is [-1.29361095e-04 -2.22850474e-05]\n",
      "[-0.24610108 -0.02016334] and step size is [-1.23050542e-04 -2.01633359e-05]\n",
      "[-0.23409566 -0.01824363] and step size is [-1.17047832e-04 -1.82436280e-05]\n",
      "[-0.2226759  -0.01650669] and step size is [-1.11337950e-04 -1.65066913e-05]\n",
      "[-0.21181322 -0.01493512] and step size is [-1.05906610e-04 -1.49351247e-05]\n",
      "[-0.20148045 -0.01351318] and step size is [-1.00740224e-04 -1.35131835e-05]\n",
      "[-0.19165173 -0.01222662] and step size is [-9.58258669e-05 -1.22266223e-05]\n",
      "[-0.18230249 -0.01106255] and step size is [-9.11512444e-05 -1.10625519e-05]\n",
      "[-0.17340932 -0.01000931] and step size is [-8.67046616e-05 -1.00093101e-05]\n",
      "[-0.16494999 -0.00905635] and step size is [-8.24749941e-05 -9.05634514e-06]\n",
      "[-0.15690332 -0.00819411] and step size is [-7.84516602e-05 -8.19410997e-06]\n",
      "[-0.14924919 -0.00741397] and step size is [-7.46245944e-05 -7.41396635e-06]\n",
      "[-0.14196844 -0.0067081 ] and step size is [-7.09842224e-05 -6.70809853e-06]\n",
      "[-0.13504287 -0.00606943] and step size is [-6.75214367e-05 -6.06943488e-06]\n",
      "[-0.12845515 -0.00549158] and step size is [-6.42275743e-05 -5.49157701e-06]\n",
      "[-0.12218879 -0.00496874] and step size is [-6.10943946e-05 -4.96873576e-06]\n",
      "[-0.11622812 -0.00449567] and step size is [-5.81140591e-05 -4.49567309e-06]\n",
      "[-0.11055822 -0.00406765] and step size is [-5.52791118e-05 -4.06764971e-06]\n",
      "[-0.10516492 -0.00368038] and step size is [-5.25824602e-05 -3.68037752e-06]\n",
      "[-0.10003472 -0.00332998] and step size is [-5.00173579e-05 -3.32997667e-06]\n",
      "[-0.09515478 -0.00301294] and step size is [-4.75773877e-05 -3.01293675e-06]\n",
      "[-0.09051289 -0.00272608] and step size is [-4.52564452e-05 -2.72608151e-06]\n",
      "[-0.08609745 -0.00246654] and step size is [-4.30487240e-05 -2.46653714e-06]\n",
      "[-0.0818974 -0.0022317] and step size is [-4.09487010e-05 -2.23170343e-06]\n",
      "[-0.07790224 -0.00201923] and step size is [-3.89511222e-05 -2.01922774e-06]\n",
      "[-0.07410198 -0.00182698] and step size is [-3.70509902e-05 -1.82698140e-06]\n",
      "[-0.0704871  -0.00165304] and step size is [-3.52435514e-05 -1.65303843e-06]\n",
      "[-0.06704857 -0.00149566] and step size is [-3.35242840e-05 -1.49565619e-06]\n",
      "[-0.06377777 -0.00135326] and step size is [-3.18888866e-05 -1.35325797e-06]\n",
      "[-0.06066654 -0.00122442] and step size is [-3.03332679e-05 -1.22441719e-06]\n",
      "[-0.05770707 -0.00110784] and step size is [-2.88535362e-05 -1.10784306e-06]\n",
      "[-0.05489198 -0.00100237] and step size is [-2.74459895e-05 -1.00236770e-06]\n",
      "[-0.05221421 -0.00090693] and step size is [-2.61071063e-05 -9.06934421e-07]\n",
      "[-0.04966707 -0.00082059] and step size is [-2.48335372e-05 -8.20587142e-07]\n",
      "[-0.04724419 -0.00074246] and step size is [-2.36220959e-05 -7.42460802e-07]\n",
      "[-0.0449395  -0.00067177] and step size is [-2.24697517e-05 -6.71772704e-07]\n",
      "[-0.04274724 -0.00060781] and step size is [-2.13736217e-05 -6.07814667e-07]\n",
      "[-0.04066193 -0.00054995] and step size is [-2.03309637e-05 -5.49945937e-07]\n",
      "[-0.03867834 -0.00049759] and step size is [-1.93391691e-05 -4.97586766e-07]\n",
      "[-0.03679151 -0.00045021] and step size is [-1.83957566e-05 -4.50212598e-07]\n",
      "[-0.03499673 -0.00040735] and step size is [-1.74983662e-05 -4.07348823e-07]\n",
      "[-0.03328951 -0.00036857] and step size is [-1.66447527e-05 -3.68566016e-07]\n",
      "[-0.03166556 -0.00033348] and step size is [-1.58327805e-05 -3.33475637e-07]\n",
      "[-0.03012084 -0.00030173] and step size is [-1.50604184e-05 -3.01726138e-07]\n",
      "[-0.02865147 -0.000273  ] and step size is [-1.4325734e-05 -2.7299944e-07]\n",
      "[-0.02725378 -0.00024701] and step size is [-1.36268893e-05 -2.47007750e-07]\n",
      "[-0.02592427 -0.00022349] and step size is [-1.29621360e-05 -2.23490672e-07]\n",
      "[-0.02465962 -0.00020221] and step size is [-1.23298110e-05 -2.02212605e-07]\n",
      "[-0.02345666 -0.00018296] and step size is [-1.17283323e-05 -1.82960377e-07]\n",
      "[-0.02231239 -0.00016554] and step size is [-1.11561953e-05 -1.65541112e-07]\n",
      "[-0.02122394 -0.00014978] and step size is [-1.06119686e-05 -1.49780299e-07]\n"
     ]
    }
   ],
   "source": [
    "# steepest gradient code\n",
    "\n",
    "import math\n",
    "import numpy as np\n",
    "\n",
    "v1 = np.array([-3, -3])\n",
    "\n",
    "f = lambda v:(v[0]**2)*v[1]\n",
    "        \n",
    "def df (vec):\n",
    "#     print(vec)\n",
    "    if (vec > 4).sum() == 0 and (vec < -4).sum() == 0:\n",
    "        return np.array([2*vec[0]*vec[1], vec[0]**2])\n",
    "    else:\n",
    "        raise Exception(\"out of bound\") \n",
    "\n",
    "# df = lambda v:np.array([2*v[0]*v[1], v[0]**2])\n",
    "magintude = lambda v: np.linalg.norm(v)\n",
    "learning_rate = 0.001\n",
    "for i in range(10000):\n",
    "    old_magintude = magintude(v1)\n",
    "#     step_size = (learning_rate * df(v1))\n",
    "    step_size = learning_rate*(f(v1)/df(v1))\n",
    "    \n",
    "    if i%100 == 0:\n",
    "        print(f\"{v1} and step size is {step_size}\")\n",
    "    v1 = v1 - step_size\n",
    "#     if magintude(x) >= old_magintude:\n",
    "#         print(\"minimum reached\")\n",
    "#         break\n"
   ]
  },
  {
   "cell_type": "code",
   "execution_count": 63,
   "metadata": {},
   "outputs": [
    {
     "data": {
      "text/plain": [
       "18"
      ]
     },
     "execution_count": 63,
     "metadata": {},
     "output_type": "execute_result"
    }
   ],
   "source": [
    "f = lambda v:(v[0]**2)*v[1]\n",
    "\n",
    "# [19.74020102 10.16593052]\n",
    "\n",
    "f(np.array([-3, 2]))"
   ]
  },
  {
   "cell_type": "code",
   "execution_count": 71,
   "metadata": {},
   "outputs": [
    {
     "name": "stdout",
     "output_type": "stream",
     "text": [
      "3 and step size is 6.0\n",
      "2.3665827156630354e-30 and step size is 4.733165431326071e-30\n",
      "1.8669045833583425e-60 and step size is 3.733809166716685e-60\n",
      "1.472728039589318e-90 and step size is 2.945456079178636e-90\n",
      "1.1617775744547955e-120 and step size is 2.323555148909591e-120\n",
      "9.164809090498814e-151 and step size is 1.8329618180997628e-150\n"
     ]
    },
    {
     "ename": "ZeroDivisionError",
     "evalue": "float division by zero",
     "output_type": "error",
     "traceback": [
      "\u001b[0;31m---------------------------------------------------------------------------\u001b[0m",
      "\u001b[0;31mZeroDivisionError\u001b[0m                         Traceback (most recent call last)",
      "\u001b[0;32m<ipython-input-71-f1db3cfcbf5c>\u001b[0m in \u001b[0;36m<module>\u001b[0;34m\u001b[0m\n\u001b[1;32m     14\u001b[0m \u001b[0;34m\u001b[0m\u001b[0m\n\u001b[1;32m     15\u001b[0m \u001b[0;31m#     learning_rate = 0.0001\u001b[0m\u001b[0;34m\u001b[0m\u001b[0;34m\u001b[0m\u001b[0;34m\u001b[0m\u001b[0m\n\u001b[0;32m---> 16\u001b[0;31m     \u001b[0mlearning_rate\u001b[0m \u001b[0;34m=\u001b[0m \u001b[0mf\u001b[0m\u001b[0;34m(\u001b[0m\u001b[0mv1\u001b[0m\u001b[0;34m)\u001b[0m\u001b[0;34m/\u001b[0m\u001b[0;34m(\u001b[0m\u001b[0mdf\u001b[0m\u001b[0;34m(\u001b[0m\u001b[0mv1\u001b[0m\u001b[0;34m)\u001b[0m\u001b[0;34m*\u001b[0m\u001b[0mdf\u001b[0m\u001b[0;34m(\u001b[0m\u001b[0mv1\u001b[0m\u001b[0;34m)\u001b[0m\u001b[0;34m)\u001b[0m\u001b[0;34m\u001b[0m\u001b[0;34m\u001b[0m\u001b[0m\n\u001b[0m\u001b[1;32m     17\u001b[0m \u001b[0;34m\u001b[0m\u001b[0m\n\u001b[1;32m     18\u001b[0m \u001b[0;34m\u001b[0m\u001b[0m\n",
      "\u001b[0;31mZeroDivisionError\u001b[0m: float division by zero"
     ]
    }
   ],
   "source": [
    "# newton raphson method\n",
    "\n",
    "import math\n",
    "import numpy as np\n",
    "\n",
    "v1 = 3\n",
    "\n",
    "f = lambda v:v**2\n",
    "        \n",
    "def df (vec):\n",
    "    return vec*2\n",
    "\n",
    "learning_rate = 0.0001\n",
    "for i in range(100000):\n",
    "    old_magintude = v1\n",
    "    \n",
    "#     learning_rate = 0.0001\n",
    "    learning_rate = f(v1)/(df(v1)*df(v1))\n",
    "\n",
    "    \n",
    "    step_size = (learning_rate * df(v1))\n",
    "    \n",
    "    if i%100 == 0:\n",
    "        print(f\"{v1} and step size is {step_size}\")\n",
    "        \n",
    "    v1 = v1 - step_size\n",
    "    \n",
    "    if abs(v1) >= old_magintude:\n",
    "        print(\"minimum reached\")\n",
    "        break\n"
   ]
  },
  {
   "cell_type": "code",
   "execution_count": 72,
   "metadata": {},
   "outputs": [
    {
     "name": "stdout",
     "output_type": "stream",
     "text": [
      "3 and step size is 1.5\n",
      "2.3665827156630354e-30 and step size is 1.1832913578315177e-30\n",
      "1.8669045833583425e-60 and step size is 9.334522916791713e-61\n",
      "1.472728039589318e-90 and step size is 7.36364019794659e-91\n",
      "1.1617775744547955e-120 and step size is 5.808887872273977e-121\n",
      "9.164809090498814e-151 and step size is 4.582404545249407e-151\n",
      "minimum reached\n"
     ]
    }
   ],
   "source": [
    "import math\n",
    "import numpy as np\n",
    "\n",
    "v1 = 3\n",
    "\n",
    "f = lambda v:v**2\n",
    "        \n",
    "def df (vec):\n",
    "    return vec*2\n",
    "\n",
    "learning_rate = 0.0001\n",
    "for i in range(100000):\n",
    "    old_magintude = v1\n",
    "    \n",
    "    step_size = f(v1)/df(v1)\n",
    "    \n",
    "    if i%100 == 0:\n",
    "        print(f\"{v1} and step size is {step_size}\")\n",
    "        \n",
    "    v1 = v1 - step_size\n",
    "    \n",
    "    if abs(v1) >= old_magintude:\n",
    "        print(\"minimum reached\")\n",
    "        break\n"
   ]
  },
  {
   "cell_type": "code",
   "execution_count": 9,
   "metadata": {},
   "outputs": [
    {
     "data": {
      "text/plain": [
       "1000000"
      ]
     },
     "execution_count": 9,
     "metadata": {},
     "output_type": "execute_result"
    }
   ],
   "source": [
    "100*(100**2)"
   ]
  },
  {
   "cell_type": "markdown",
   "metadata": {},
   "source": [
    " $\\delta \\mathbf{x} = -\\gamma \\mathbf{J} $"
   ]
  },
  {
   "cell_type": "code",
   "execution_count": 17,
   "metadata": {},
   "outputs": [
    {
     "data": {
      "text/plain": [
       "1.0"
      ]
     },
     "execution_count": 17,
     "metadata": {},
     "output_type": "execute_result"
    }
   ],
   "source": [
    "np.cosh(0)"
   ]
  },
  {
   "cell_type": "code",
   "execution_count": 11,
   "metadata": {},
   "outputs": [
    {
     "data": {
      "text/plain": [
       "2.0000000000000004"
      ]
     },
     "execution_count": 11,
     "metadata": {},
     "output_type": "execute_result"
    }
   ],
   "source": [
    "import numpy as np\n",
    "\n",
    "x = np.array([0.8, 0.7, 0.6, 0.5, 0.4])\n",
    "y = np.array([0.85, 0.75, 0.55, 0.25, 0.1])\n",
    "\n",
    "x_bar = np.average(x)\n",
    "y_bar = np.average(y)\n",
    "\n",
    "m_d = np.array([(x[i] - x_bar)*y[i] for i in range(x.size)]).sum()\n",
    "m_n = np.array([(x[i] - x_bar)**2 for i in range(x.size)]).sum()\n",
    "\n",
    "m = m_d/m_n\n",
    "\n",
    "m"
   ]
  },
  {
   "cell_type": "code",
   "execution_count": null,
   "metadata": {},
   "outputs": [],
   "source": []
  }
 ],
 "metadata": {
  "kernelspec": {
   "display_name": "Python 3",
   "language": "python",
   "name": "python3"
  },
  "language_info": {
   "codemirror_mode": {
    "name": "ipython",
    "version": 3
   },
   "file_extension": ".py",
   "mimetype": "text/x-python",
   "name": "python",
   "nbconvert_exporter": "python",
   "pygments_lexer": "ipython3",
   "version": "3.8.5"
  }
 },
 "nbformat": 4,
 "nbformat_minor": 4
}
