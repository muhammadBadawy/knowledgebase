{
 "cells": [
  {
   "cell_type": "markdown",
   "metadata": {},
   "source": [
    "# Machine Learning cheatsheets for Stanford's CS 229\n",
    "\n",
    "Available in [العربية](https://github.com/afshinea/stanford-cs-229-machine-learning/tree/master/ar) -  [English](https://github.com/afshinea/stanford-cs-229-machine-learning/tree/master/en) -  [Español](https://github.com/afshinea/stanford-cs-229-machine-learning/tree/master/es) -  [فارسی](https://github.com/afshinea/stanford-cs-229-machine-learning/tree/master/fa) -  [Français](https://github.com/afshinea/stanford-cs-229-machine-learning/tree/master/fr) -  [한국어](https://stanford.edu/~shervine/l/ko/teaching/cs-229/cheatsheet-machine-learning-tips-and-tricks) -  [Português](https://github.com/afshinea/stanford-cs-229-machine-learning/tree/master/pt) -  [Türkçe](https://github.com/afshinea/stanford-cs-229-machine-learning/tree/master/tr) - [Tiếng Việt](https://github.com/afshinea/stanford-cs-229-machine-learning/tree/master/vi) -  [简中](https://github.com/afshinea/stanford-cs-229-machine-learning/tree/master/zh) -  [繁中](https://github.com/afshinea/stanford-cs-229-machine-learning/tree/master/zh-tw)\n",
    "\n",
    "## Goal\n",
    "This repository aims at summing up in the same place all the important notions that are covered in Stanford's CS 229 Machine Learning course, and include:\n",
    "- **Refreshers** in related topics that highlight the key points of the **prerequisites of the course**.\n",
    "- **Cheatsheets for each machine learning field**, as well as another dedicated to tips and tricks to have in mind when training a model.\n",
    "- All elements of the above combined in an **ultimate compilation of concepts**, to have with you at all times!\n",
    "\n",
    "## Content\n",
    "#### VIP Cheatsheets\n",
    "|<a href=\"https://github.com/afshinea/stanford-cs-229-machine-learning/blob/master/en/cheatsheet-supervised-learning.pdf\"><img src=\"https://stanford.edu/~shervine/teaching/cs-229/illustrations/cover/en-001.png?\" alt=\"Illustration\" width=\"220px\"/></a>|<a href=\"https://github.com/afshinea/stanford-cs-229-machine-learning/blob/master/en/cheatsheet-unsupervised-learning.pdf\"><img src=\"https://stanford.edu/~shervine/teaching/cs-229/illustrations/cover/en-002.png\" alt=\"Illustration\" width=\"220px\"/></a>|<a href=\"https://github.com/afshinea/stanford-cs-229-machine-learning/blob/master/en/cheatsheet-deep-learning.pdf\"><img src=\"https://stanford.edu/~shervine/teaching/cs-229/illustrations/cover/en-003.png\" alt=\"Illustration\" width=\"220px\"/></a>|<a href=\"https://github.com/afshinea/stanford-cs-229-machine-learning/blob/master/en/cheatsheet-machine-learning-tips-and-tricks.pdf\"><img src=\"https://stanford.edu/~shervine/teaching/cs-229/illustrations/cover/en-004.png\" alt=\"Illustration\" width=\"220px\"/></a>|\n",
    "|:--:|:--:|:--:|:--:|\n",
    "|Supervised Learning|Unsupervised Learning|Deep Learning|Tips and tricks|\n",
    "\n",
    "#### VIP Refreshers\n",
    "|<a href=\"https://github.com/afshinea/stanford-cs-229-machine-learning/blob/master/en/refresher-probabilities-statistics.pdf\"><img src=\"https://stanford.edu/~shervine/teaching/cs-229/illustrations/cover/en-005.png\" alt=\"Illustration\" width=\"220px\"/></a>|<a href=\"https://github.com/afshinea/stanford-cs-229-machine-learning/blob/master/en/refresher-algebra-calculus.pdf\"><img src=\"https://stanford.edu/~shervine/teaching/cs-229/illustrations/cover/en-006.png#1\" alt=\"Illustration\" width=\"220px\"/></a>|\n",
    "|:--:|:--:|\n",
    "|Probabilities and Statistics|Algebra and Calculus|\n",
    "\n",
    "\n",
    "#### Super VIP Cheatsheet\n",
    "|<a href=\"https://github.com/afshinea/stanford-cs-229-machine-learning/blob/master/en/super-cheatsheet-machine-learning.pdf\"><img src=\"https://stanford.edu/~shervine/teaching/cs-229/illustrations/cover/en-007.png\" alt=\"Illustration\" width=\"400px\"/></a>|\n",
    "|:--:|\n",
    "|All the above gathered in one place|\n",
    "\n",
    "## Website\n",
    "This material is also available on a dedicated [website](https://stanford.edu/~shervine/teaching/cs-229), so that you can enjoy reading it from any device.\n",
    "\n",
    "## Translation\n",
    "Would you like to see these cheatsheets in your native language? You can help us translating them on [this dedicated repo](https://github.com/shervinea/cheatsheet-translation)!\n",
    "\n",
    "## Authors\n",
    "[Afshine Amidi](https://twitter.com/afshinea) (Ecole Centrale Paris, MIT) and [Shervine Amidi](https://twitter.com/shervinea) (Ecole Centrale Paris, Stanford University)\n"
   ]
  },
  {
   "cell_type": "code",
   "execution_count": null,
   "metadata": {},
   "outputs": [],
   "source": []
  }
 ],
 "metadata": {
  "kernelspec": {
   "display_name": "Python 3",
   "language": "python",
   "name": "python3"
  },
  "language_info": {
   "codemirror_mode": {
    "name": "ipython",
    "version": 3
   },
   "file_extension": ".py",
   "mimetype": "text/x-python",
   "name": "python",
   "nbconvert_exporter": "python",
   "pygments_lexer": "ipython3",
   "version": "3.8.5"
  }
 },
 "nbformat": 4,
 "nbformat_minor": 4
}
