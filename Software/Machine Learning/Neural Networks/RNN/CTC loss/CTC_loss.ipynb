{
 "cells": [
  {
   "cell_type": "markdown",
   "id": "a6840d7f-acc8-40f0-81ef-4ab36dec32af",
   "metadata": {},
   "source": [
    "To keep things short,\n",
    "\n",
    "review Neural Networks from here:\\\n",
    "https://www.youtube.com/watch?v=5tvmMX8r_OM&list=PLtBw6njQRU-rwp5__7C0oIVt26ZgjG9NI&index=1 \\\n",
    "and then RNN and LSTM from MITS191\\\n",
    "https://www.youtube.com/watch?v=qjrad0V0uJE&list=PLtBw6njQRU-rwp5__7C0oIVt26ZgjG9NI&index=2 \\\n",
    "\n",
    "Then do the music generation Project\\\n",
    "https://github.com/aamini/introtodeeplearning/\n",
    "\n",
    "Now we can use what we have learned to make a simple CNN network that classifies character able to classify a whole word bu using CTC loss\n",
    "\n",
    "read this medium article to have a good intuition about CTC loss:\\\n",
    "https://towardsdatascience.com/intuitively-understanding-connectionist-temporal-classification-3797e43a86c\n",
    "\n",
    "then this will bind CNN, LSTM, and CTC loss to make a handwriting recognition system\\\n",
    "https://towardsdatascience.com/build-a-handwritten-text-recognition-system-using-tensorflow-2326a3487cd5\n",
    "\n",
    "Now you can do OCR on word level, (You may want to take a look at the DNN model that segments words in a picture)\\\n",
    "So what about line level?\n",
    "\n",
    "then these are FAQ, where you can find an answer to make it on line level\\\n",
    "https://towardsdatascience.com/faq-build-a-handwritten-text-recognition-system-using-tensorflow-27648fb18519\n",
    "\n",
    "CTC loss includes some operations where we have multiple paths that we walk through and calculate the loss over them (the loss of an example, is the sum of product of probabilities of paths that leads to the ground truth of that example),\\\n",
    "So we use beam search to get the best path\\\n",
    "https://www.youtube.com/watch?v=UXW6Cs82UKo"
   ]
  },
  {
   "cell_type": "code",
   "execution_count": null,
   "id": "00962801-1f62-4cbd-b00f-12b7a24ba787",
   "metadata": {},
   "outputs": [],
   "source": []
  }
 ],
 "metadata": {
  "kernelspec": {
   "display_name": "Python 3",
   "language": "python",
   "name": "python3"
  },
  "language_info": {
   "codemirror_mode": {
    "name": "ipython",
    "version": 3
   },
   "file_extension": ".py",
   "mimetype": "text/x-python",
   "name": "python",
   "nbconvert_exporter": "python",
   "pygments_lexer": "ipython3",
   "version": "3.8.8"
  }
 },
 "nbformat": 4,
 "nbformat_minor": 5
}
